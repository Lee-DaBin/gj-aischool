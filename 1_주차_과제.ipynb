{
  "nbformat": 4,
  "nbformat_minor": 0,
  "metadata": {
    "colab": {
      "name": "1 주차 과제.ipynb",
      "provenance": [],
      "toc_visible": true,
      "mount_file_id": "1qXbR0h7WbxkzKBfZtD3BPYnbS1NatCR0",
      "authorship_tag": "ABX9TyNJkzulGtNheG8mP670cf7B",
      "include_colab_link": true
    },
    "kernelspec": {
      "name": "python3",
      "display_name": "Python 3"
    }
  },
  "cells": [
    {
      "cell_type": "markdown",
      "metadata": {
        "id": "view-in-github",
        "colab_type": "text"
      },
      "source": [
        "<a href=\"https://colab.research.google.com/github/Lee-DaBin/gj-aischool/blob/master/1_%EC%A3%BC%EC%B0%A8_%EA%B3%BC%EC%A0%9C.ipynb\" target=\"_parent\"><img src=\"https://colab.research.google.com/assets/colab-badge.svg\" alt=\"Open In Colab\"/></a>"
      ]
    },
    {
      "cell_type": "markdown",
      "metadata": {
        "id": "cm3OQ12Rjw-E",
        "colab_type": "text"
      },
      "source": [
        "#**[언어]**\n",
        "\n"
      ]
    },
    {
      "cell_type": "markdown",
      "metadata": {
        "id": "Y6qwEdhJAhho",
        "colab_type": "text"
      },
      "source": [
        "###**\"ㅅ111발\" 도 잡아내는 욕설 탐지기, 딥러닝으로 만들기**\n",
        "\n",
        "http://www.inven.co.kr/webzine/news/?news=198156#csidx1590357853f16fd89caa663c8ef029b \n",
        "\n",
        "![대체 텍스트](http://static.inven.co.kr/column/2018/04/24/news/i15469840965.jpg)\n",
        "\n",
        " NCD 딥러닝의 CNN을 사용하여 새로운 욕설 탐지기는\n",
        "문맥의 의미나 단어의 패턴을 정확하게 판단하기 때문에 90%의 정확도를 보인다고 한다.\n",
        "먼저 프로그램으로 한번 문장을 거르고 욕설일 확률이 높은 것만 따로 검토하여 운영자의 부담이 상당히 줄어든다고 한다.\n",
        "\n",
        " 실제로 서든어택에서 시험적으로 사용하여 결과를 얻었다. 서든어택에서 발생하는 신고와 수동 검토에 솔루션을 제공했다. 신고가 들어오면 수동으로 검토하는 기존의 구조를 개선하기 위함이었다. 솔루션에서 제공한 기능은 1. 채팅 중 욕설인 부분만 추출하여 보여주는 것. 2. 제재 확률이 높은 순으로 정렬하는 기능의 두 가지다.\n",
        "\n",
        " 실무에 적용할 수 있는 단계는 아니었지만, 테스트 결과는 1분당 모니터링 건수가 기존 23건에서 욕설 탐지기 사용 시 35건으로 증가했다. 제재 대상을 선별하는 부분에서는 기존 41%, 욕설 탐지기 96%로 크게 차이가 났다. 제재 확률이 높은 사례로 정렬하는 기능은 실무 담당자들에게 있어서 큰 효과를 가져다줄 수 있었다. 10회 테스트에서는 모든 경우에 걸쳐서 욕설 탐지기 쪽이 더 좋은 결과를 보여준 것이 확인됐다.\n",
        "\n",
        " 갈수록 욕의 수법이 교모해지는데 이런 욕설의 변형은 물론, 맥락을 고려하여 판단하는 형태는 앞으로 대부분의 게임이나 웹서비스 실무에서 많은 도움을 줄 수 있다고 생각한다.\n",
        "\n",
        " "
      ]
    },
    {
      "cell_type": "markdown",
      "metadata": {
        "id": "WZzp62zwHj-D",
        "colab_type": "text"
      },
      "source": [
        "#**[음성]**"
      ]
    },
    {
      "cell_type": "markdown",
      "metadata": {
        "id": "kw3liWY9J12I",
        "colab_type": "text"
      },
      "source": [
        "###**네이버, 음성인식 기술 ‘NEST’ 공개.. “AI가 회의록 정리 가능”**\n",
        "https://i1.wp.com/wowtale.net/wp-content/uploads/2020/04/20200413-Clova-Speech.png?w=1920&ssl=1\n",
        "\n",
        "![대체 텍스트](https://i1.wp.com/wowtale.net/wp-content/uploads/2020/04/20200413-Clova-Speech.png?w=1920&ssl=1)\n",
        "\n",
        "네이버가 자체 음성 기술 연구 성과를 바탕으로, 한 단계 진화한 음성인식 엔진 ‘NEST(Neural End-to-end Speech Transcriber)’를 공개했다.\n",
        "\n",
        "NEST는 제한된 데이터 학습만으로도 복잡하고 다양한 장문의 음성 표현을 정확하게 인식하고, 텍스트로 변환할 수 있는 기술이다. 대량의 정제된 데이터를 사전에 학습하지 않고도, 예상치 못한 표현에 대해 정확한 음성인식이 가능한 것이 장점이다.\n",
        "\n",
        "음향 정보와 언어 정보를 별도로 학습하는 기존의 모델링 방식을 통합 모델링 방식(end-to-end)으로 개선해, 학습에 필요한 데이터의 양과 시간은 기존의 1/10 수준으로 단축시키면서도, 인식의 정확도는 오히려 높였다.\n",
        "\n",
        "네이버의 새로운 음성인식 기술은 AI가 전화로 코로나19의 능동감시자를 확인하는 ‘클로바 케어콜’ 서비스에 적용되어 있으며, 지난 1월에는 네이버 동영상 뉴스의 자동 자막 서비스에도 도입된 바 있다.\n",
        "\n",
        "NEST는 동영상 및 오디오 콘텐츠의 자막 제작이나 아카이빙, 고객센터의 통화 데이터 관리 등 다양한 분야에서 활용 가치가 높을 것으로 기대된다고 밝혔다."
      ]
    },
    {
      "cell_type": "markdown",
      "metadata": {
        "id": "QgjYoRslltZB",
        "colab_type": "text"
      },
      "source": [
        "#**[이미지]**"
      ]
    },
    {
      "cell_type": "markdown",
      "metadata": {
        "id": "ygmuoi4uJyvP",
        "colab_type": "text"
      },
      "source": [
        "##**GAN (Generative Adversarial Networ) 그럴듯한 가짜를 만들어내는 모델**\n",
        "\n",
        "\n",
        "https://www.samsungsds.com/global/ko/support/insights/Generative-adversarial-network-AI-3.html\n",
        "\n",
        "주로 인간의 개입에 의한 인공지능이 대부분을 차지하고 있었지만 인간의 개입 및 학습 데이터가 없어도 스스로 학습하는 신경망, 서로 대립하는 두 시스템이 서로 경쟁하는 방식으로 학습을 진행하는 비지도 학습 방식의 신경망을 '적대적 생성신경망 또는 생성적 적대신경망(Generative Adversarial Network. 이하, GAN)'이라 한다\n",
        "![대체 텍스트](https://t1.daumcdn.net/cfile/tistory/99A0C1335B758B401B)\n",
        "\n",
        "생성적 적대신경망(GAN)은 두개의 모델이 있다. 하나는 생성기/생성자(G, Generator) 이며, 또 하나는 분류기/판별자(D, Discriminator)로 두 모델은 서로 경쟁하면서 서로에게 영향을 미치면서 고도화된다.\n",
        "\n",
        "생성기는 노이즈로부터 어떠한 결과물을 만들어내는데, 이 결과물은 분류기에 의해서 평가되며, 분류기는 생성기로부터 온 결과물과 실제 데이터(Real Data)를 구분해내는 역할을 한다. 예를 들어, 이미지를 생성하는 AI와 그 이미지가 진짜인지를 분별 AI가 경쟁하면서 가짜 이미지를 진짜 이미지와 최대한 가깝게 이미지를 생성하고 생산한다.\n",
        "\n",
        "최근 GAN은 음성신호 및 자연어 처리 등으로 영역이 확대되어 다양한 분야에 적용되며 빠르게 발전하고 있어 가장 유망한 인공신경망 알고리즘으로 각광받는 중이다.\n",
        "\n",
        "\n"
      ]
    },
    {
      "cell_type": "markdown",
      "metadata": {
        "id": "IbCA0XsUluE4",
        "colab_type": "text"
      },
      "source": [
        "#**[자율주행]**"
      ]
    },
    {
      "cell_type": "markdown",
      "metadata": {
        "id": "urrH_tUGUyif",
        "colab_type": "text"
      },
      "source": [
        "##**구글 딥마인드-웨이모, 게임 AI로 자율주행 훈련 가속 및 자동화**\n",
        "http://scimonitors.com/%EA%B5%AC%EA%B8%80-%EB%94%A5%EB%A7%88%EC%9D%B8%EB%93%9C-%EC%9B%A8%EC%9D%B4%EB%AA%A8-pbt%EB%A1%9C-ai-%EC%9E%90%EC%9C%A8%EC%A3%BC%ED%96%89-%ED%9B%88%EB%A0%A8-%EC%9E%90%EB%8F%99%E2%80%A7%EA%B0%80/\n",
        "\n",
        "![대체 텍스트](https://user-images.githubusercontent.com/26705935/51183079-8d777500-1913-11e9-958e-b26d1f285c6f.png)\n",
        "\n",
        "비디오 게임 알고리즘을 개선하기 위해 딥마인드가 개발한 PBT (population-based training)라는 기술을 사용했다. 생물학적 진화에서 영감을 얻은 PBT는 알고리즘 모집단에서 최적표본 (주어진 작업을 가장 효율적으로 수행하는 표본)에서 후보 코드를 채택, 특정 작업에 대한 기계 학습 알고리즘 및 매개 변수 선택 속도를 높인다.\n",
        "\n",
        "자율주행 차량은 거의 루베 골드버그(Rube Goldberg)알고리즘 및 관련 기술 조합으로 제어된다. 센서 데이터의 도로선, 표지판, 다른 차량 및 보행자를 탐지하기 위해 수많은 ML알고리즘이 사용된다. 이들은 차량을 제어하고 다른 우발적 상황에 대처하기 위해 재래식 또는 수작업으로 작성된 코드와 함께 작동한다.\n",
        "\n",
        "자율주행시스템의 새로운 반복은 시뮬레이션을 통해 엄격하게 테스트되어야한다. 오늘날 자율주행 차량은 특히 심화 학습(deep learning, DL)에 크게 의존한다. 그러나 적절한 속성과 매개 변수(시작 부분에 하드 코딩 된 값)로 심층 신경망(deep neural network)을 구성하는 것은 까다로운 기술이다. 후보 네트워크 및 매개 변수는 수동으로 선택되며 대개 처리 시간이 많이 소요된다. 컴퓨터에 의한 무작위 조정은 많은 프로세싱 파워가 필요하다.\n",
        "\n",
        "웨이모 ML인프라 엔지니어 유신 첸(Yu-hsin Chen)은 팀이 차선 표시, 차량 및 보행자를 감지하고 다른 ML 알고리즘에 제공되는 레이블이 지정된 데이터의 정확성을 확인하는 데 사용되는 DL코드 개발을 개선하기 위해 PBT를 사용 중이라고 밝혔다. \n",
        "\n",
        "PBT에서 사용된 진화 유사 프로세스는 또한 DL알고리즘이 계통 트리(genealogical tree)와 비슷하게 조정되고 최적화 되는 방법을 더 쉽게 이해할 수 있게 한다. 매개 변수의 진화를 시각화, 어떤 일이 실제로 발생하는지 확인이 가능하다.\n"
      ]
    }
  ]
}